{
 "cells": [
  {
   "cell_type": "code",
   "execution_count": null,
   "metadata": {},
   "outputs": [],
   "source": [
    "from astropy import units as u\n",
    "from astropy import nddata\n",
    "from astropy.io import fits\n",
    "from astropy.wcs import WCS\n",
    "from astropy import visualization\n",
    "from astropy.utils import data"
   ]
  },
  {
   "cell_type": "code",
   "execution_count": null,
   "metadata": {},
   "outputs": [],
   "source": [
    "import os\n",
    "import ipywidgets"
   ]
  },
  {
   "cell_type": "code",
   "execution_count": null,
   "metadata": {},
   "outputs": [],
   "source": [
    "%matplotlib inline\n",
    "from matplotlib import pyplot as plt"
   ]
  },
  {
   "cell_type": "code",
   "execution_count": null,
   "metadata": {},
   "outputs": [],
   "source": [
    "datafn = data.download_file('http://www.stsci.edu/~etollerud/jclj01tvq_flc.fits.gz', cache=False)"
   ]
  },
  {
   "cell_type": "markdown",
   "metadata": {},
   "source": [
    "If the link no longer works, you can try to get the file from MAST by searching on for Proposal ID 13745"
   ]
  },
  {
   "cell_type": "code",
   "execution_count": null,
   "metadata": {},
   "outputs": [],
   "source": [
    "with fits.open(datafn) as ff:\n",
    "    print(list(enumerate([hdu.name for hdu in ff])))\n",
    "    wcs = WCS(ff[4], ff)\n",
    "    d = nddata.CCDData(data=ff[4].data, uncertainty=ff[5].data, flags=ff[6].data, unit=u.count, wcs=wcs)"
   ]
  },
  {
   "cell_type": "code",
   "execution_count": null,
   "metadata": {},
   "outputs": [],
   "source": [
    "ax = plt.subplot(projection=wcs)\n",
    "\n",
    "plt.imshow(d.data, \n",
    "           norm=visualization.ImageNormalize(d.data, \n",
    "                                             interval=visualization.PercentileInterval(95), \n",
    "                                             stretch=visualization.AsinhStretch()))\n",
    "ax.coords[1].set_ticks(spacing = 20*u.arcsec)\n",
    "ax.coords[1].set_major_formatter('dd:mm:ss.s')"
   ]
  },
  {
   "cell_type": "markdown",
   "metadata": {},
   "source": [
    "# Baseline test "
   ]
  },
  {
   "cell_type": "code",
   "execution_count": null,
   "metadata": {},
   "outputs": [],
   "source": [
    "import ginga\n",
    "from ginga.web.jupyterw.ImageViewJpw import EnhancedCanvasView"
   ]
  },
  {
   "cell_type": "code",
   "execution_count": null,
   "metadata": {},
   "outputs": [],
   "source": [
    "import requests\n",
    "image_url = \"https://upload.wikimedia.org/wikipedia/commons/thumb/e/e9/Felis_silvestris_silvestris_small_gradual_decrease_of_quality.png/240px-Felis_silvestris_silvestris_small_gradual_decrease_of_quality.png\"\n",
    "image = requests.get(image_url).content\n",
    "img = ipywidgets.Image(format='jpeg', width=500, height=500, value=image)\n",
    "img"
   ]
  },
  {
   "cell_type": "code",
   "execution_count": null,
   "metadata": {},
   "outputs": [],
   "source": [
    "v1 = EnhancedCanvasView()\n",
    "v1.set_widget(img)\n",
    "v1.get_bindings().enable_all(True)\n",
    "\n",
    "v1.set_cmap(ginga.cmap.get_cmap('viridis'))\n",
    "\n",
    "v1.load_data(d.data)"
   ]
  },
  {
   "cell_type": "code",
   "execution_count": null,
   "metadata": {
    "scrolled": true
   },
   "outputs": [],
   "source": [
    "data_btn = ipywidgets.Button(description='data')\n",
    "unc_btn = ipywidgets.Button(description='unc')\n",
    "flag_btn = ipywidgets.Button(description='flags')\n",
    "autocut = ipywidgets.Checkbox(description='autocut')\n",
    "text = ipywidgets.Text('No cursor')\n",
    "\n",
    "def update(newdata):\n",
    "    oldpan = v1.get_pan()\n",
    "    oldzoom = v1.get_zoom()\n",
    "    \n",
    "    v1.load_data(newdata)\n",
    "    if autocut.value:\n",
    "        v1.auto_levels()\n",
    "    \n",
    "    v1.set_pan(*oldpan)\n",
    "    v1.zoom_to(oldzoom)\n",
    "\n",
    "def data_click(button):\n",
    "    update(d.data)\n",
    "def unc_click(button):\n",
    "    update(d.uncertainty.array)\n",
    "def flag_click(button):\n",
    "    update(d.flags)\n",
    "    \n",
    "data_btn.on_click(data_click)\n",
    "unc_btn.on_click(unc_click)\n",
    "flag_btn.on_click(flag_click)\n",
    "\n",
    "hbox = ipywidgets.HBox([data_btn, unc_btn, flag_btn, autocut, text])\n",
    "vbox = ipywidgets.VBox([img, hbox])\n",
    "vbox"
   ]
  },
  {
   "cell_type": "code",
   "execution_count": null,
   "metadata": {},
   "outputs": [],
   "source": [
    "#ff = fits.open('/Users/erik/projects/piscdwarfs_hst/raw/jclj01tvq_flc.fits')\n",
    "#v1.get_image().wcs.load_header(ff[4].header, ff)"
   ]
  },
  {
   "cell_type": "code",
   "execution_count": null,
   "metadata": {},
   "outputs": [],
   "source": [
    "v1.cut_levels(-4, 500)"
   ]
  },
  {
   "cell_type": "code",
   "execution_count": null,
   "metadata": {},
   "outputs": [],
   "source": [
    "v1.set_pan(688,1141)"
   ]
  },
  {
   "cell_type": "code",
   "execution_count": null,
   "metadata": {},
   "outputs": [],
   "source": [
    "v1.zoom_to(2)"
   ]
  },
  {
   "cell_type": "code",
   "execution_count": null,
   "metadata": {},
   "outputs": [],
   "source": [
    "v1.markl(600, 700, 'circle')"
   ]
  },
  {
   "cell_type": "markdown",
   "metadata": {},
   "source": [
    "* Build a class to do the above and put it in ginga or st_ginga if Eric is not interested\n",
    "* tvmark and drawing plugin is a good example of marking (add layer and then draw into *that*)\n",
    "* user can set shape programatically but click to get the mark"
   ]
  },
  {
   "cell_type": "code",
   "execution_count": null,
   "metadata": {},
   "outputs": [],
   "source": [
    "arg = []\n",
    "\n",
    "def f(*args, **kwargs):\n",
    "    arg.append((args, kwargs))\n",
    "    data_x, data_y = args[2:4]\n",
    "    ra, dec = wcs.all_pix2world(data_x, data_y, 0)\n",
    "    text.value = '{:.4},{:.4}'.format(float(ra), float(dec))\n",
    "\n",
    "v1.add_callback('cursor-changed', f)"
   ]
  },
  {
   "cell_type": "markdown",
   "metadata": {},
   "source": [
    "# Fixes to suggest"
   ]
  },
  {
   "cell_type": "markdown",
   "metadata": {},
   "source": [
    "* `EnhancedCanvasView.get_color_algorithm` should exist"
   ]
  },
  {
   "cell_type": "markdown",
   "metadata": {},
   "source": [
    "# Experiments with widgets "
   ]
  },
  {
   "cell_type": "code",
   "execution_count": null,
   "metadata": {},
   "outputs": [],
   "source": [
    "text =['first', 'second']\n",
    "button = ipywidgets.Button(description=\"Click Me!\")\n",
    "button.i = 0\n",
    "\n",
    "def on_button_clicked(b):\n",
    "    b.description = text[b.i % len(text)] + str(b.i)\n",
    "    b.i += 1\n",
    "\n",
    "button.on_click(on_button_clicked)\n",
    "button"
   ]
  },
  {
   "cell_type": "code",
   "execution_count": null,
   "metadata": {},
   "outputs": [],
   "source": [
    "text.append('third')\n",
    "on_button_clicked(button)"
   ]
  },
  {
   "cell_type": "code",
   "execution_count": null,
   "metadata": {},
   "outputs": [],
   "source": []
  },
  {
   "cell_type": "code",
   "execution_count": null,
   "metadata": {},
   "outputs": [],
   "source": []
  },
  {
   "cell_type": "markdown",
   "metadata": {},
   "source": [
    "# Test below "
   ]
  },
  {
   "cell_type": "code",
   "execution_count": null,
   "metadata": {},
   "outputs": [],
   "source": [
    "%%javascript\n",
    "/* some magic to keep the cell contents from scrolling\n",
    " */\n",
    "IPython.OutputArea.prototype._should_scroll = function(lines) {\n",
    "    return false;\n",
    "}"
   ]
  },
  {
   "cell_type": "code",
   "execution_count": null,
   "metadata": {},
   "outputs": [],
   "source": [
    "# create the beginnings of an image viewing application\n",
    "import requests\n",
    "image_url = \"http://madamsabi.com/image/cache/data/catfish-500x500.jpg\"\n",
    "image = requests.get(image_url).content\n",
    "jup_img = ipywidgets.Image(format='jpeg', width=500, height=500, value=image)\n",
    "\n",
    "zoom = ipywidgets.FloatSlider(min=-20, max=20, step=1, continuous_update=True,\n",
    "                          orientation='horizontal')\n",
    "ipywidgets.VBox([jup_img, zoom])"
   ]
  },
  {
   "cell_type": "code",
   "execution_count": null,
   "metadata": {},
   "outputs": [],
   "source": [
    "# Connect a Ginga viewer to this image widget\n",
    "from ginga.misc.log import get_logger\n",
    "logger = get_logger(\"my viewer\", log_stderr=False, \n",
    "                    log_file=os.path.join(os.environ['HOME'], 'tmp' ,'ginga.log'), \n",
    "                    level=40)\n",
    "\n",
    "from ginga.web.jupyterw.ImageViewJpw import EnhancedCanvasView\n",
    "v1 = EnhancedCanvasView(logger=logger)\n",
    "# set our linkage between the jupyter widget at ginga\n",
    "v1.set_widget(jup_img)\n",
    "\n",
    "# enable all possible keyboard and pointer operations\n",
    "bd = v1.get_bindings()\n",
    "bd.enable_all(True)"
   ]
  },
  {
   "cell_type": "code",
   "execution_count": null,
   "metadata": {},
   "outputs": [],
   "source": [
    "from ginga.misc.log import get_logger"
   ]
  },
  {
   "cell_type": "code",
   "execution_count": null,
   "metadata": {},
   "outputs": [],
   "source": [
    "v1.get_pan()"
   ]
  },
  {
   "cell_type": "code",
   "execution_count": null,
   "metadata": {},
   "outputs": [],
   "source": []
  },
  {
   "cell_type": "code",
   "execution_count": null,
   "metadata": {},
   "outputs": [],
   "source": []
  },
  {
   "cell_type": "code",
   "execution_count": null,
   "metadata": {},
   "outputs": [],
   "source": []
  },
  {
   "cell_type": "code",
   "execution_count": null,
   "metadata": {},
   "outputs": [],
   "source": []
  },
  {
   "cell_type": "code",
   "execution_count": null,
   "metadata": {},
   "outputs": [],
   "source": []
  },
  {
   "cell_type": "code",
   "execution_count": null,
   "metadata": {},
   "outputs": [],
   "source": []
  },
  {
   "cell_type": "code",
   "execution_count": null,
   "metadata": {},
   "outputs": [],
   "source": []
  },
  {
   "cell_type": "code",
   "execution_count": null,
   "metadata": {},
   "outputs": [],
   "source": []
  },
  {
   "cell_type": "code",
   "execution_count": null,
   "metadata": {},
   "outputs": [],
   "source": []
  },
  {
   "cell_type": "code",
   "execution_count": null,
   "metadata": {},
   "outputs": [],
   "source": [
    "Viewer('hgjghfjh')"
   ]
  },
  {
   "cell_type": "code",
   "execution_count": null,
   "metadata": {},
   "outputs": [],
   "source": []
  },
  {
   "cell_type": "code",
   "execution_count": null,
   "metadata": {},
   "outputs": [],
   "source": []
  },
  {
   "cell_type": "code",
   "execution_count": null,
   "metadata": {},
   "outputs": [],
   "source": []
  },
  {
   "cell_type": "code",
   "execution_count": null,
   "metadata": {},
   "outputs": [],
   "source": []
  },
  {
   "cell_type": "code",
   "execution_count": null,
   "metadata": {},
   "outputs": [],
   "source": []
  },
  {
   "cell_type": "code",
   "execution_count": null,
   "metadata": {},
   "outputs": [],
   "source": []
  },
  {
   "cell_type": "code",
   "execution_count": null,
   "metadata": {},
   "outputs": [],
   "source": []
  },
  {
   "cell_type": "code",
   "execution_count": null,
   "metadata": {},
   "outputs": [],
   "source": []
  },
  {
   "cell_type": "code",
   "execution_count": null,
   "metadata": {},
   "outputs": [],
   "source": []
  },
  {
   "cell_type": "code",
   "execution_count": null,
   "metadata": {},
   "outputs": [],
   "source": []
  },
  {
   "cell_type": "code",
   "execution_count": null,
   "metadata": {},
   "outputs": [],
   "source": []
  },
  {
   "cell_type": "code",
   "execution_count": null,
   "metadata": {},
   "outputs": [],
   "source": []
  },
  {
   "cell_type": "code",
   "execution_count": null,
   "metadata": {},
   "outputs": [],
   "source": []
  }
 ],
 "metadata": {
  "kernelspec": {
   "display_name": "Python 3",
   "language": "python3",
   "name": "python3"
  },
  "language_info": {
   "codemirror_mode": {
    "name": "ipython",
    "version": 3
   },
   "file_extension": ".py",
   "mimetype": "text/x-python",
   "name": "python",
   "nbconvert_exporter": "python",
   "pygments_lexer": "ipython3",
   "version": "3.6.3"
  }
 },
 "nbformat": 4,
 "nbformat_minor": 2
}
